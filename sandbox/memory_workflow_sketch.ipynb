{
 "cells": [
  {
   "cell_type": "code",
   "execution_count": 2,
   "metadata": {},
   "outputs": [],
   "source": [
    "%load_ext autoreload\n",
    "%autoreload 2"
   ]
  },
  {
   "cell_type": "code",
   "execution_count": 3,
   "metadata": {},
   "outputs": [],
   "source": [
    "from dotenv import load_dotenv\n",
    "load_dotenv(override=True)\n",
    "import numpy as np\n",
    "from pydantic import BaseModel, Field\n",
    "\n",
    "import numpy as np\n",
    "from llama_index.core import Settings\n",
    "from llama_index.agent.introspective import SelfReflectionAgentWorker\n",
    "from llama_index.agent.introspective import IntrospectiveAgentWorker\n",
    "from llama_index.core.agent import ReActAgent, StructuredPlannerAgent, FunctionCallingAgentWorker\n",
    "\n",
    "\n",
    "import nest_asyncio\n",
    "nest_asyncio.apply()\n",
    "from llama_index.core.vector_stores.types import MetadataFilters, MetadataFilter, FilterOperator, FilterCondition\n",
    "from llama_index.core.prompts import PromptTemplate\n",
    "from llama_index.core.output_parsers.pydantic import PydanticOutputParser\n",
    "from llama_index.core.schema import TextNode, IndexNode, NodeRelationship, RelatedNodeInfo\n",
    "from typing import List, Dict\n",
    "import re\n",
    "import plotreader\n",
    "from plotreader.utils.document import ScientificPaperHandler\n",
    "from plotreader.utils.base import BasicAnthropicLLM"
   ]
  },
  {
   "cell_type": "code",
   "execution_count": 4,
   "metadata": {},
   "outputs": [],
   "source": [
    "handler = ScientificPaperHandler(\n",
    "    filepath=\"/Users/loyalshababo/dev/plotreader/sandbox/storage/tmp/nihms-1538039.pdf\",\n",
    "    document_id = \"3de6841c-fba6-4124-a28a-2c53124202af\",\n",
    "    # filepath=\"/Users/loyalshababo/dev/plotreader/sandbox/storage/tmp/s42003-021-01878-9.pdf\",\n",
    "    # document_id = \"b562c2f2-b776-4829-b18c-6c6ebf4f788d\",\n",
    "    name=\"nihms-1538039\",\n",
    "    desc=\"A scientific paper\",\n",
    "    storage_dir = \"./storage\",\n",
    "    use_cache = False\n",
    ")"
   ]
  },
  {
   "cell_type": "code",
   "execution_count": 5,
   "metadata": {},
   "outputs": [],
   "source": [
    "fig_num = 2\n",
    "\n",
    "filters = MetadataFilters(filters=[\n",
    "    MetadataFilter(\n",
    "        key=\"fig_refs\", \n",
    "        value=f'Figure {fig_num}',\n",
    "        operator=FilterOperator.TEXT_MATCH_LIST\n",
    "    # ),\n",
    "    # MetadataFilter(\n",
    "    #     key=\"fig_refs\", \n",
    "    #     value='Figure 2d',\n",
    "    #     operator=FilterOperator.TEXT_MATCH_LIST\n",
    "    # ),\n",
    "    # MetadataFilter(\n",
    "    #     key=\"fig_refs\", \n",
    "    #     value='Figure 2e',\n",
    "    #     operator=FilterOperator.TEXT_MATCH_LIST\n",
    "    )],\n",
    "    condition=FilterCondition.OR\n",
    ")"
   ]
  },
  {
   "cell_type": "code",
   "execution_count": 8,
   "metadata": {},
   "outputs": [],
   "source": [
    "retriever = handler._get_retriever(metadata_filters=filters)"
   ]
  },
  {
   "cell_type": "code",
   "execution_count": null,
   "metadata": {},
   "outputs": [],
   "source": []
  }
 ],
 "metadata": {
  "kernelspec": {
   "display_name": ".venv",
   "language": "python",
   "name": "python3"
  },
  "language_info": {
   "codemirror_mode": {
    "name": "ipython",
    "version": 3
   },
   "file_extension": ".py",
   "mimetype": "text/x-python",
   "name": "python",
   "nbconvert_exporter": "python",
   "pygments_lexer": "ipython3",
   "version": "3.12.5"
  }
 },
 "nbformat": 4,
 "nbformat_minor": 2
}
