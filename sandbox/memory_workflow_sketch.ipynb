{
 "cells": [
  {
   "cell_type": "code",
   "execution_count": 1,
   "metadata": {},
   "outputs": [],
   "source": [
    "%load_ext autoreload\n",
    "%autoreload 2"
   ]
  },
  {
   "cell_type": "code",
   "execution_count": 43,
   "metadata": {},
   "outputs": [],
   "source": [
    "from typing import Union\n",
    "\n",
    "from dotenv import load_dotenv\n",
    "load_dotenv(override=True)\n",
    "\n",
    "from pydantic import BaseModel, Field\n",
    "import requests\n",
    "from io import BytesIO\n",
    "from PIL import Image\n",
    "import numpy as np\n",
    "from plotreader.utils.structured_types.data import DataFrameRowsOnly\n",
    "import pandas as pd\n",
    "\n",
    "import nest_asyncio\n",
    "nest_asyncio.apply()\n",
    "\n",
    "from llama_index.core.vector_stores.types import MetadataFilters, MetadataFilter, FilterOperator, FilterCondition\n",
    "from llama_index.core.prompts import PromptTemplate\n",
    "from llama_index.core.output_parsers.pydantic import PydanticOutputParser\n",
    "from llama_index.core.schema import TextNode, IndexNode, NodeRelationship, RelatedNodeInfo, ImageNode\n",
    "from llama_index.core.schema import ImageNode, NodeWithScore, MetadataMode\n",
    "\n",
    "\n",
    "import plotreader\n",
    "from plotreader.utils.document import ScientificPaperHandler\n",
    "from plotreader.utils.base import BasicAnthropicLLM"
   ]
  },
  {
   "cell_type": "code",
   "execution_count": 3,
   "metadata": {},
   "outputs": [],
   "source": [
    "claude_mm_default = BasicAnthropicLLM(model='claude-3-5-sonnet-20240620')"
   ]
  },
  {
   "cell_type": "code",
   "execution_count": 4,
   "metadata": {},
   "outputs": [],
   "source": [
    "handler = ScientificPaperHandler(\n",
    "    filepath=\"/Users/loyalshababo/dev/plotreader/sandbox/storage/tmp/nihms-1538039.pdf\",\n",
    "    document_id = \"3de6841c-fba6-4124-a28a-2c53124202af\",\n",
    "    # filepath=\"/Users/loyalshababo/dev/plotreader/sandbox/storage/tmp/s42003-021-01878-9.pdf\",\n",
    "    # document_id = \"b562c2f2-b776-4829-b18c-6c6ebf4f788d\",\n",
    "    name=\"nihms-1538039\",\n",
    "    desc=\"A scientific paper\",\n",
    "    storage_dir = \"./storage\",\n",
    "    use_cache = False\n",
    ")"
   ]
  },
  {
   "cell_type": "code",
   "execution_count": 5,
   "metadata": {},
   "outputs": [],
   "source": [
    "fig_num = 2\n",
    "\n",
    "filters = MetadataFilters(filters=[\n",
    "    MetadataFilter(\n",
    "        key=\"fig_refs\", \n",
    "        value=f'Figure {fig_num}',\n",
    "        operator=FilterOperator.TEXT_MATCH_LIST\n",
    "    # ),\n",
    "    # MetadataFilter(\n",
    "    #     key=\"fig_refs\", \n",
    "    #     value='Figure 2d',\n",
    "    #     operator=FilterOperator.TEXT_MATCH_LIST\n",
    "    # ),\n",
    "    # MetadataFilter(\n",
    "    #     key=\"fig_refs\", \n",
    "    #     value='Figure 2e',\n",
    "    #     operator=FilterOperator.TEXT_MATCH_LIST\n",
    "    )],\n",
    "    condition=FilterCondition.OR\n",
    ")"
   ]
  },
  {
   "cell_type": "code",
   "execution_count": 6,
   "metadata": {},
   "outputs": [],
   "source": [
    "retriever = handler._get_retriever(metadata_filters=filters)"
   ]
  },
  {
   "cell_type": "code",
   "execution_count": 7,
   "metadata": {},
   "outputs": [],
   "source": [
    "query_tool = handler.query_engine_tool(metadata_filters=filters)"
   ]
  },
  {
   "cell_type": "code",
   "execution_count": 8,
   "metadata": {},
   "outputs": [],
   "source": [
    "class Variable(BaseModel):\n",
    "    name: str\n",
    "    categorical: bool\n",
    "\n",
    "class Experiment(BaseModel):\n",
    "    independent_variables: list[Variable]\n",
    "    dependent_variables: list[Variable]\n",
    "\n",
    "class Plot(BaseModel):\n",
    "    name: str\n",
    "    experiments: list[Experiment]\n",
    "\n",
    "class Panel(BaseModel):\n",
    "    name: str\n",
    "    plots: list[Plot]\n",
    "\n",
    "class Figure(BaseModel):\n",
    "    name: str\n",
    "    panels: list[Panel]\n",
    "    # statistics: List[str]\n",
    "\n"
   ]
  },
  {
   "cell_type": "code",
   "execution_count": 9,
   "metadata": {},
   "outputs": [],
   "source": [
    "output_parser = PydanticOutputParser(output_cls=Figure)\n",
    "\n",
    "prompt = f\"\"\"\n",
    "YOUR OVERALL JOB:\n",
    "    You are an expert at extracting data from figures in scientific papers.\n",
    "    You will always primarily look to the image of the figure.\n",
    "    You will look to text to obtain more detail if necessary.\n",
    "    When there is a discrepency between text and graphic, always defer to the graphic.\n",
    "\n",
    "YOUR CURRENT TASK:\n",
    "Complete the following task by visual inspection of the figure ONLY. Omit information if not available in the image.\n",
    "For each plot in each panel of THE IMAGE of Fig. {fig_num}, determine the experiment in terms of Independent variables (IVs) and dependent variable (DV). \n",
    "By plot, we mean each set of axes or displays. Each panel can have multiple plots. See the json definition below for more.\n",
    "\n",
    "Return your answer as structured data.\n",
    "\"\"\"\n",
    "\n",
    "prompt = PromptTemplate(prompt, output_parser=output_parser).format(llm=plotreader._MM_LLM)"
   ]
  },
  {
   "cell_type": "code",
   "execution_count": 10,
   "metadata": {},
   "outputs": [],
   "source": [
    "response = query_tool(prompt)\n",
    "nodes = response.raw_output.source_nodes\n",
    "figure_struct = output_parser.parse(response.content)"
   ]
  },
  {
   "cell_type": "code",
   "execution_count": 11,
   "metadata": {},
   "outputs": [
    {
     "data": {
      "text/plain": [
       "[NodeWithScore(node=TextNode(id_='816f492a-fb49-4eab-8c9c-7c0a71364724', embedding=None, metadata={'Header_1': 'Online methods', 'Header_2': 'Light delivery and imaging', 'experimental_variable_entities': ['light pulse duration', 'wavelength', 'power', 'photocurrent strength', 'light intensity'], 'fig_refs': ['Supplemental Figure 5', 'Figure 2e']}, excluded_embed_metadata_keys=[], excluded_llm_metadata_keys=[], relationships={<NodeRelationship.SOURCE: '1'>: RelatedNodeInfo(node_id='a71f2164-f8f5-48e0-be2c-3f5484fb2c5d', node_type=<ObjectType.TEXT: '1'>, metadata={}, hash='7b659f8233a33154253211184f42d7c03aed827bbfd9936ed9ad29dfd80859c4'), <NodeRelationship.PARENT: '4'>: RelatedNodeInfo(node_id='24644624-4c8c-4974-a377-666ec90a6083', node_type=None, metadata={}, hash=None)}, text='Light delivery and imaging\\n\\nPatch-clamp recordings were done with short light pulses to measure photocurrents. Light pulse duration, wavelength, and power were varied depending on the experiment (as described in the text). Light pulses were generated using a Lumencor SPECTRAX light engine. The illumination/output spectra for each color were measured (Supplemental Figure 5). To evaluate normalized green photocurrent, we measured photocurrent strength at three wavelengths (peak ± half width at half maximum): (red) 640 ± 3 nm, (green) 546 ± 16 nm, and (cyan) 481 ± 3 nm with a 0.5 s light pulse. Light intensity was matched for these measurements, with 481 nm light at 2.3 mW mm−2, 546 nm light at 2.8 mW mm−2, and 640 nm light at 2.2 mW mm−2. For full spectra measurements depicted in Figure 2e, we measured photocurrents at seven different wavelengths (peak ± half width half maximum): (red) 640 ± 3 nm, (yellow) 567 ± 13 nm, (green) 546 ± 16 nm, (teal) 523 ± 6 nm, (cyan) 481 ± 3 nm LED, (blue) 439 ± 8 nm LED, and (violet) 397 ± 3 nm with a 0.5 s light pulse for each color. Light intensity is matched across wavelengths at 1.3 mW mm−2.\\n\\nImaging of ChR variants expression in HEK cells was performed using an Andor Neo 5.5 sCMOS camera and Micro-Manager Open Source Microscopy Software. Imaging of ChR expression in neuronal cultures and in brain slices was performed using a Zeiss LSM 880 confocal microscope and Zen software.', mimetype='text/plain', start_char_idx=None, end_char_idx=None, text_template='{metadata_str}\\n\\n{content}', metadata_template='{key}: {value}', metadata_seperator='\\n'), score=0.9360516),\n",
       " NodeWithScore(node=TextNode(id_='e24195ba-35a3-4424-89ac-56834e220bef', embedding=None, metadata={'Header_1': 'Online methods', 'Header_2': 'References', 'Header_3': 'Figure 2. The model-predicted ChRs exhibit a large range of functional properties often far exceeding the parents.', 'experimental_variable_entities': ['peak photocurrent', 'steady-state photocurrent', 'wavelengths of light', 'off-kinetics decay rate', 'light exposure duration', 'light intensity'], 'fig_refs': ['Figure 2', 'Figure 2a', 'Figure 2b', 'Figure 2c', 'Figure 2d']}, excluded_embed_metadata_keys=[], excluded_llm_metadata_keys=[], relationships={<NodeRelationship.SOURCE: '1'>: RelatedNodeInfo(node_id='a71f2164-f8f5-48e0-be2c-3f5484fb2c5d', node_type=<ObjectType.TEXT: '1'>, metadata={}, hash='7b659f8233a33154253211184f42d7c03aed827bbfd9936ed9ad29dfd80859c4'), <NodeRelationship.PARENT: '4'>: RelatedNodeInfo(node_id='353bf0f3-fa6c-4c2a-96d4-7279f71b515b', node_type=None, metadata={}, hash=None)}, text='Figure 2. The model-predicted ChRs exhibit a large range of functional properties often far exceeding the parents.\\n\\n(a) Representative current traces after 0.5 s light exposure for select designer ChR variants with corresponding expression and localization in HEK cells. Vertical colored scale bar for each ChR current trace represents 500 pA, and horizontal scale bar represents 250 ms. The variant color presented in (a) is constant throughout panels.\\n\\n(b) Measured peak and steady-state photocurrent with different wavelengths of light in HEK cells (n = 4–8 cells, see Dataset 2). 397 nm light at 1.5 mW mm−2, 481 nm light at 2.3 mW mm−2, 546 nm light at 2.8 mW mm−2, and 640 nm light at 2.2 mW mm−2.\\n\\n(c) Off-kinetics decay rate (τoff) following a 1 ms exposure to 481 nm light at 2.3 mW mm−2 (n = 4–8 cells, see Dataset 2). Parent ChRs are highlighted in light gray. Inset shows representative current traces with 1 ms light exposure for select ChRs revealing distinct profiles: ChR_21_10 turns off rapidly, ChR_25_9 and ChR_11_10 turn off more slowly, and ChR_15_10 exhibits little decrease in photocurrent 0.5 s after the light exposure.\\n\\n(d) Peak and steady-state photocurrent strength', mimetype='text/plain', start_char_idx=None, end_char_idx=None, text_template='{metadata_str}\\n\\n{content}', metadata_template='{key}: {value}', metadata_seperator='\\n'), score=0.93318766),\n",
       " NodeWithScore(node=TextNode(id_='eabf9069-3363-4dda-9d75-f946bd6ece0b', embedding=None, metadata={'Header_1': 'Results', 'Header_2': 'Selection of designer ChRs using trained models', 'Header_3': 'Selection of designer ChRs using trained models', 'experimental_variable_entities': ['photocurrent strength', 'wavelength sensitivity of photocurrents', 'off-kinetics', 'localization', 'function', 'activation wavelengths'], 'fig_refs': ['Figure 1', 'Supplemental Figure 2–3', 'Figure 1f', 'Supplemental Table 1', 'Figure 2b']}, excluded_embed_metadata_keys=[], excluded_llm_metadata_keys=[], relationships={<NodeRelationship.SOURCE: '1'>: RelatedNodeInfo(node_id='a71f2164-f8f5-48e0-be2c-3f5484fb2c5d', node_type=<ObjectType.TEXT: '1'>, metadata={}, hash='7b659f8233a33154253211184f42d7c03aed827bbfd9936ed9ad29dfd80859c4'), <NodeRelationship.PARENT: '4'>: RelatedNodeInfo(node_id='dec43f80-cd49-4bfe-91b1-139f2f8bae5c', node_type=None, metadata={}, hash=None)}, text='Selection of designer ChRs using trained models\\n\\nthose previously tested. We updated the models by including data from these 22 sequences for future rounds of predictions.\\n\\nFrom the 120,000-variant recombination library, 1,161 chimeric sequence variants passed the conservative 0.4 predicted localization and function threshold (Figure 1). For the second tier of the selection process, we used the three regression models trained on all functional variants collected up to this point to predict the photocurrent strength, wavelength sensitivity of photocurrents, and off-kinetics for each of these 1,161 ChR sequence variants (Dataset 3). We selected 28 designer ChRs predicted to be highly functional with different combinations of properties including those predicted to have the highest photocurrent strength, most red-shifted or blue-shifted activation wavelengths, and off-kinetics from very fast to very slow (Supplemental Figure 2–3).\\n\\nGenes encoding the 28 selected designer ChR variants were synthesized, expressed in HEK cells, and characterized for their photocurrent properties with patch-clamp electrophysiology. All 28 selected designer ChRs were functional: 100% of variants selected using the updated classification model above the 0.4 threshold both localize and function. For each of the designer ChR variants, the measured photocurrent properties correlated well with the model predictions (R>0.9 for all models) (Figure 1f, Supplemental Table 1). This outstanding performance on a novel set of sequences demonstrates the power of this data-driven predictive method for engineering designer ChRs. As a negative control, we selected two ChR variant sequences from the recombination library that the model predicted would be non-functional (ChR_29_10 and ChR_30_10). These sequences resulted from a single-block swap from two of the most highly functional ChR recombination variants tested. As predicted, these sequences were non-functional (Figure 2b), which shows that ChR functionality can be attenuated by incorporating even minimal diversity at certain positions.', mimetype='text/plain', start_char_idx=None, end_char_idx=None, text_template='{metadata_str}\\n\\n{content}', metadata_template='{key}: {value}', metadata_seperator='\\n'), score=0.9296961),\n",
       " NodeWithScore(node=ImageNode(id_='d04f54e0-29ba-4046-92a6-7d2c6e9268f0', embedding=None, metadata={'page_number': 22, 'fig_refs': ['Figure 2']}, excluded_embed_metadata_keys=[], excluded_llm_metadata_keys=[], relationships={<NodeRelationship.PARENT: '4'>: RelatedNodeInfo(node_id='85cb8023-1f70-4f9b-b091-3977f389437a', node_type=None, metadata={}, hash=None)}, text='Figure 2 shows that the model-predicted ChRs exhibit a large range of functional properties often far exceeding the parents.\\n\\nSection a shows representative current traces after 0.5 s light exposure for select designer ChR variants with corresponding expression and localization in HEK cells. Vertical scale bar for each ChR current trace represents 1 nA, and horizontal scale bar represents 250 ms. The variant color presented in (a) is constant throughout panels. CheRiff, C1C2 are represented in gray, CsChrimR in black, 11_10 in cyan, 12_10 in magenta, 25_9 in light blue, 10_10 in yellow, 15_10 in blue, 28_10 in orange, 21_10 in purple, and 3_10 in red. The bottom row shows fluorescence images of ChR expression in HEK cells, with a 20 μm scale bar.\\n\\nSection b displays measured peak and steady-state photocurrent with different wavelengths of light in HEK cells (n=4-8 cells, see Dataset 2). Four wavelengths are shown: 397 nm, 481 nm, 546 nm, and 640 nm. The y-axis shows photocurrent in pA, with different scales for each wavelength. Peak currents are represented by dark gray bars, while steady-state currents are in light gray. Error bars are included.\\n\\nSection c shows off-kinetics decay rate (τoff) following a 1 ms exposure to 481 nm light at 2.3 mW mm^2 (n=4-8 cells, see Dataset 2). Parent ChRs are highlighted in light gray. The x-axis shows τoff values on a logarithmic scale from 10^1 to 10^4 ms. Inset shows representative current traces with 1 ms light exposure for select ChRs revealing distinct profiles: ChR_21_10 (purple) turns off rapidly, ChR_3_10 (red) and ChR_25_9 (light blue) turn off more slowly, and ChR_15_10 (blue) exhibits little decrease in photocurrent 0.5 s after the light exposure. The time scale for these traces is 100 ms.\\n\\nSection d shows normalized photocurrent as a function of wavelength for various ChR variants. The wavelengths range from 400 nm to 600 nm. Different colored lines represent different ChR variants, corresponding to the colors in panel a.\\n\\nSection e displays peak photocurrent (left) and steady-state photocurrent (right) as a function of light intensity for various ChR variants. The x-axis shows light intensity from 10^-1 to 10^1 mW mm^-2 on a logarithmic scale. The y-axis shows photocurrent in pA, up to 2500 pA. Different colored lines represent different ChR variants, corresponding to the colors in panel a. Error bars are included.', mimetype='text/plain', start_char_idx=None, end_char_idx=None, text_template='{metadata_str}\\n\\n{content}', metadata_template='{key}: {value}', metadata_seperator='\\n', image=None, image_path=None, image_url='https://upload.eyelevel.ai/layout/raw/prod/140cc56a-b570-46f7-bfcf-f53f5a9ac997/3de6841c-fba6-4124-a28a-2c53124202af/figure-22-0.jpg', image_mimetype=None, text_embedding=None), score=0.9231778),\n",
       " NodeWithScore(node=TextNode(id_='c867498d-2fc8-4775-8126-ff2d33f4f51a', embedding=None, metadata={'Header_1': 'Online methods', 'Header_2': 'References', 'Header_3': 'Figure 2. The model-predicted ChRs exhibit a large range of functional properties often far exceeding the parents. (continued)', 'experimental_variable_entities': ['light irradiances', 'wavelength sensitivity', 'activation', 'functional properties'], 'fig_refs': ['Figure 2']}, excluded_embed_metadata_keys=[], excluded_llm_metadata_keys=[], relationships={<NodeRelationship.SOURCE: '1'>: RelatedNodeInfo(node_id='a71f2164-f8f5-48e0-be2c-3f5484fb2c5d', node_type=<ObjectType.TEXT: '1'>, metadata={}, hash='7b659f8233a33154253211184f42d7c03aed827bbfd9936ed9ad29dfd80859c4'), <NodeRelationship.PARENT: '4'>: RelatedNodeInfo(node_id='87215489-2674-4874-a6ad-f5c9101fd9ac', node_type=None, metadata={}, hash=None)}, text='Figure 2. The model-predicted ChRs exhibit a large range of functional properties often far exceeding the parents. (continued)\\n\\nwith varying light irradiances compared with parental ChRs (CheRiff, n = 5 cells; CsChrimR, n = 5 cells; C1C2, n = 4 cells; 28_10, n = 5 cells; 11_10, n = 5 cells; 25_9, n = 5 cells). (e) Wavelength sensitivity of activation for select ChRs compared with parental ChRs (CheRiff, n = 6 cells; CsChrimR, n = 5 cells; C1C2, n = 4 cells; 11_10, n = 6 cells; 12_10, n = 7 cells; 25_9, n = 5 cells; 10_10, n = 4 cells). Top variants, ChR_9_4, ChR_25_9, and ChR_11_10 are named ChRger1, ChRger2, and ChRger3 in subsequent figures. Plotted data are mean±SEM.', mimetype='text/plain', start_char_idx=None, end_char_idx=None, text_template='{metadata_str}\\n\\n{content}', metadata_template='{key}: {value}', metadata_seperator='\\n'), score=0.9207897)]"
      ]
     },
     "execution_count": 11,
     "metadata": {},
     "output_type": "execute_result"
    }
   ],
   "source": [
    "nodes"
   ]
  },
  {
   "cell_type": "code",
   "execution_count": 12,
   "metadata": {},
   "outputs": [],
   "source": [
    "# find figure image\n",
    "for node in nodes:\n",
    "    if isinstance(node.node, ImageNode):\n",
    "        response = requests.get(node.node.image_url)\n",
    "        source_figure = Image.open(BytesIO(response.content))\n",
    "        source_figure_summary = node.node.text"
   ]
  },
  {
   "cell_type": "code",
   "execution_count": 13,
   "metadata": {},
   "outputs": [
    {
     "name": "stdout",
     "output_type": "stream",
     "text": [
      "Figure 2\n",
      "\tPanel: a\n",
      "\n",
      "\t\tPlot: Current traces and cell images\n",
      "\t\t\tindependent_variables=[Variable(name='ChR variant', categorical=True), Variable(name='Time', categorical=False)] dependent_variables=[Variable(name='Current', categorical=False), Variable(name='Fluorescence', categorical=False)]\n",
      "\tPanel: b\n",
      "\n",
      "\t\tPlot: Photocurrent strength\n",
      "\t\t\tindependent_variables=[Variable(name='ChR variant', categorical=True), Variable(name='Wavelength', categorical=True)] dependent_variables=[Variable(name='Peak photocurrent', categorical=False), Variable(name='Steady-state photocurrent', categorical=False)]\n",
      "\tPanel: c\n",
      "\n",
      "\t\tPlot: Off-kinetics decay rate\n",
      "\t\t\tindependent_variables=[Variable(name='ChR variant', categorical=True)] dependent_variables=[Variable(name='τoff', categorical=False)]\n",
      "\tPanel: d\n",
      "\n",
      "\t\tPlot: Normalized photocurrent vs wavelength\n",
      "\t\t\tindependent_variables=[Variable(name='Wavelength', categorical=False), Variable(name='ChR variant', categorical=True)] dependent_variables=[Variable(name='Normalized photocurrent', categorical=False)]\n",
      "\tPanel: e\n",
      "\n",
      "\t\tPlot: Peak photocurrent vs intensity\n",
      "\t\t\tindependent_variables=[Variable(name='Light intensity', categorical=False), Variable(name='ChR variant', categorical=True)] dependent_variables=[Variable(name='Peak photocurrent', categorical=False)]\n",
      "\t\tPlot: Steady-state photocurrent vs intensity\n",
      "\t\t\tindependent_variables=[Variable(name='Light intensity', categorical=False), Variable(name='ChR variant', categorical=True)] dependent_variables=[Variable(name='Steady-state photocurrent', categorical=False)]\n"
     ]
    }
   ],
   "source": [
    "fig_description = f\"{figure_struct.name}\"\n",
    "\n",
    "for panel in figure_struct.panels:\n",
    "    fig_description += f\"\\n\\tPanel: {panel.name}\\n\"\n",
    "    for plot in panel.plots:\n",
    "        fig_description += f\"\\n\\t\\tPlot: {plot.name}\"\n",
    "        for experiment in plot.experiments:\n",
    "            fig_description += f\"\\n\\t\\t\\t{experiment}\"\n",
    "\n",
    "print(fig_description)"
   ]
  },
  {
   "cell_type": "code",
   "execution_count": 14,
   "metadata": {},
   "outputs": [],
   "source": [
    "# select panel d (only one plot in panel)\n",
    "panel = figure_struct.panels[3]\n",
    "plot = panel.plots[0]\n",
    "exp = plot.experiments[0]"
   ]
  },
  {
   "cell_type": "code",
   "execution_count": 15,
   "metadata": {},
   "outputs": [],
   "source": [
    "class BoundingBox(BaseModel):\n",
    "    left_x: float = Field(default = 0.0, description=\"The x-coordinate of the left side of the bounding box in the range 0.0 to 1.0\")\n",
    "    upper_y: float = Field(default = 0.0, description=\"The y-coordinate of the top side of the bounding box in the range 0.0 to 1.0\")\n",
    "    right_x: float = Field(default = 1.0, description=\"The x-coordinate of the right side of the bounding box in the range 0.0 to 1.0\")\n",
    "    lower_y: float = Field(default = 1.0, description=\"The y-coordinate of the bottom side of the bounding box\")"
   ]
  },
  {
   "cell_type": "code",
   "execution_count": 16,
   "metadata": {},
   "outputs": [],
   "source": [
    "output_parser = PydanticOutputParser(output_cls=BoundingBox)"
   ]
  },
  {
   "cell_type": "code",
   "execution_count": 17,
   "metadata": {},
   "outputs": [],
   "source": [
    "PLOT_CROP_PROMPT = \"\"\"\n",
    "Provide a bounding box for panel {panel_name} (plot title/description: {plot_name}) in the provided figure. \n",
    "Be liberal with padding, we'd rather have extra that lose part of the panel.\"\"\"\n",
    "\n",
    "prompt = PromptTemplate(\n",
    "    PLOT_CROP_PROMPT.format(panel_name=panel.name, plot_name=plot.name), \n",
    "    output_parser=output_parser\n",
    ").format(llm=plotreader._MM_LLM)"
   ]
  },
  {
   "cell_type": "code",
   "execution_count": 18,
   "metadata": {},
   "outputs": [],
   "source": [
    "response = claude_mm_default.message(\n",
    "    prompt,\n",
    "    images = [source_figure]\n",
    ")"
   ]
  },
  {
   "cell_type": "code",
   "execution_count": 19,
   "metadata": {},
   "outputs": [],
   "source": [
    "bbox = output_parser.parse(response.content[0].text)"
   ]
  },
  {
   "cell_type": "code",
   "execution_count": 20,
   "metadata": {},
   "outputs": [
    {
     "data": {
      "text/plain": [
       "BoundingBox(left_x=0.0, upper_y=0.5800000000000001, right_x=0.43000000000000005, lower_y=1.0)"
      ]
     },
     "execution_count": 20,
     "metadata": {},
     "output_type": "execute_result"
    }
   ],
   "source": [
    "padding = 0.1\n",
    "bbox_cropped = BoundingBox()\n",
    "bbox_cropped.left_x = np.max([0, bbox.left_x - padding])\n",
    "bbox_cropped.upper_y = np.max([0, bbox.upper_y - padding])\n",
    "bbox_cropped.right_x = np.min([1, bbox.right_x + padding])\n",
    "bbox_cropped.lower_y = np.min([1, bbox.lower_y + padding])\n",
    "bbox_cropped"
   ]
  },
  {
   "cell_type": "code",
   "execution_count": 21,
   "metadata": {},
   "outputs": [
    {
     "data": {
      "image/jpeg": "[encoded data removed]",
      "image/png": "[encoded data removed]",
      "text/plain": [
       "<PIL.PngImagePlugin.PngImageFile image mode=RGB size=310x269>"
      ]
     },
     "execution_count": 21,
     "metadata": {},
     "output_type": "execute_result"
    }
   ],
   "source": [
    "# use pillow to crop the image\n",
    "fig_size = source_figure.size\n",
    "bbox_px_vals = [bbox.left_x*fig_size[0], bbox.upper_y*fig_size[1], bbox.right_x*fig_size[0], bbox.lower_y*fig_size[1]]\n",
    "\n",
    "# Crop the image using the extracted coordinates\n",
    "cropped_img = source_figure.crop(bbox_px_vals)\n",
    "cropped_img.save(\"cropped_img.png\")\n",
    "cropped_img = Image.open(\"cropped_img.png\")\n",
    "cropped_img"
   ]
  },
  {
   "cell_type": "code",
   "execution_count": 22,
   "metadata": {},
   "outputs": [],
   "source": [
    "# make image node from cropped image\n",
    "from plotreader.utils import image_to_base64\n",
    "\n",
    "# convert PIL image to b64 encoded string\n",
    "cropped_img_b64 = image_to_base64(cropped_img)\n",
    "\n",
    "cropped_img_node = ImageNode(\n",
    "    image=cropped_img_b64,\n",
    "    image_url=None,\n",
    "    metadata={\n",
    "        \"fig_refs\": [f\"Figure {fig_num}{panel.name}\"],\n",
    "    }\n",
    ")"
   ]
  },
  {
   "cell_type": "code",
   "execution_count": 23,
   "metadata": {},
   "outputs": [],
   "source": [
    "nodes.append(cropped_img_node)"
   ]
  },
  {
   "cell_type": "code",
   "execution_count": 24,
   "metadata": {},
   "outputs": [],
   "source": [
    "class PlotInfo(BaseModel):\n",
    "    plot_name: str = Field(description=\"The name of the plot\")\n",
    "    information: str = Field(description=\"Quantitative details relevant to the plot\")\n",
    "\n",
    "class PanelInfo(BaseModel):\n",
    "    panel_name: str = Field(description=\"The name of the panel\")\n",
    "    plots: list[PlotInfo] = Field(description=\"The plots in the panel\")\n",
    "\n",
    "class FigureInfo(BaseModel):\n",
    "    figure_name: str = Field(description=\"The name of the figure\")\n",
    "    panels: list[PanelInfo] = Field(description=\"The panels in the figure\")\n"
   ]
  },
  {
   "cell_type": "code",
   "execution_count": 25,
   "metadata": {},
   "outputs": [],
   "source": [
    "output_parser = PydanticOutputParser(output_cls=FigureInfo)"
   ]
  },
  {
   "cell_type": "code",
   "execution_count": 83,
   "metadata": {},
   "outputs": [],
   "source": [
    "# # let's try to consolidate the context into a summary and add important info we should consider for this figure\n",
    "# FIGURE_SUMMARY_PROMPT = \"\"\"\n",
    "# You will be provided with Figure {fig_num} from a scientific paper, the relevant text from that paper regarding the figure, and a structured representation of the experiments in the plots of that figure.\n",
    "# Your job is to consolidate information about the figure from the text and image with a focus on quantitative information about the variables in the experiments.\n",
    "# The most important thing is that you include all quantitative information about the variables in the experiments from the text. DO NOT SUMMARIZE SETS OF QUANTITIES.\n",
    "# The goal is to use this information in place of the original text (though the image will always be available).\n",
    "# If there are discrepancies, ambiguities, or potential type-os in source text, resolve in a manner that matches the information to the structured represenation of the figure below.\n",
    "\n",
    "# Structured representation of the figure:\n",
    "# {figure_desc_str}\n",
    "\n",
    "# Retrieved text information:\n",
    "# {context}\n",
    "# \"\"\"\n",
    "\n",
    "# context = \"\\n\\n\".join(\n",
    "#     [r.get_content(metadata_mode=MetadataMode.LLM) for r in nodes]\n",
    "# )\n",
    "\n",
    "# prompt = PromptTemplate(\n",
    "#     FIGURE_SUMMARY_PROMPT.format(fig_num=fig_num, figure_desc_str=fig_description, context=context),\n",
    "# ).format(llm=plotreader._MM_LLM)\n"
   ]
  },
  {
   "cell_type": "code",
   "execution_count": 26,
   "metadata": {},
   "outputs": [],
   "source": [
    "# let's try to consolidate the context into a summary and add important info we should consider for this figure\n",
    "FIGURE_SUMMARY_PROMPT = \"\"\"\n",
    "You will be provided with a full Figure {fig_num} from a scientific paper, a cropped version with a panel of interest ({panel_name}), and retrieved text from that paper regarding the figure.\n",
    "Your job is to extract all detailed information about the experimental variables used in a particular plot in the panel: {plot_name}.\n",
    "The most important thing is that you include all details about the variables in the experiments from the text. DO NOT SUMMARIZE SETS OF QUANTITIES. DO NOT REFERENCE FIGURE OR PANEL NAMES.\n",
    "\n",
    "Structured representation of the plot experiment:\n",
    "{plot_desc}\n",
    "\n",
    "Retrieved text information regarding the figure as a whole:\n",
    "{context}\n",
    "\"\"\"\n",
    "\n",
    "plot_desc = f\"Plot: {plot.name}\"\n",
    "for experiment in plot.experiments:\n",
    "    plot_desc += f\"\\n\\t{experiment}\"\n",
    "\n",
    "context = \"\\n\\n\".join(\n",
    "    [r.get_content(metadata_mode=MetadataMode.LLM) for r in nodes]\n",
    ")\n",
    "\n",
    "prompt = PromptTemplate(\n",
    "    FIGURE_SUMMARY_PROMPT.format(fig_num=fig_num, panel_name=panel.name, plot_name=plot.name, plot_desc=plot_desc, context=context),\n",
    ").format(llm=plotreader._MM_LLM)\n"
   ]
  },
  {
   "cell_type": "code",
   "execution_count": 27,
   "metadata": {},
   "outputs": [],
   "source": [
    "response = claude_mm_default.message(\n",
    "    prompt,\n",
    "    images = [source_figure, cropped_img]\n",
    ")"
   ]
  },
  {
   "cell_type": "code",
   "execution_count": 28,
   "metadata": {},
   "outputs": [],
   "source": [
    "details_text =response.content[0].text"
   ]
  },
  {
   "cell_type": "code",
   "execution_count": 29,
   "metadata": {},
   "outputs": [
    {
     "name": "stdout",
     "output_type": "stream",
     "text": [
      "Based on the provided information, here are the details about the experimental variables used in the normalized photocurrent vs wavelength plot:\n",
      "\n",
      "Independent variables:\n",
      "1. Wavelength: Ranges from 400 nm to 600 nm, with measurements taken at seven specific wavelengths (peak ± half width half maximum):\n",
      "   - 397 ± 3 nm (violet)\n",
      "   - 439 ± 8 nm (blue)\n",
      "   - 481 ± 3 nm (cyan)\n",
      "   - 523 ± 6 nm (teal)\n",
      "   - 546 ± 16 nm (green)\n",
      "   - 567 ± 13 nm (yellow)\n",
      "   - 640 ± 3 nm (red)\n",
      "\n",
      "2. ChR variant: Multiple ChR variants are tested, including:\n",
      "   - Parent ChRs: CheRiff, CsChrimR, C1C2\n",
      "   - Designer ChRs: 11_10, 12_10, 25_9, 10_10, and others\n",
      "\n",
      "Dependent variable:\n",
      "1. Normalized photocurrent: Ranges from 0 to 1.00 (normalized values)\n",
      "\n",
      "Experimental conditions:\n",
      "- Light pulse duration: 0.5 s for each color\n",
      "- Light intensity: Matched across wavelengths at 1.3 mW mm−2\n",
      "- Measurements taken in HEK cells\n",
      "- Number of cells measured: 4-8 cells per variant (see Dataset 2 for specifics)\n",
      "- Room temperature (assumed standard conditions)\n",
      "\n",
      "The plot shows the wavelength sensitivity of activation for selected ChRs compared with parental ChRs. Each ChR variant is represented by a different colored line, corresponding to the colors used in other panels of the figure.\n"
     ]
    }
   ],
   "source": [
    "print(response.content[0].text)"
   ]
  },
  {
   "cell_type": "code",
   "execution_count": 81,
   "metadata": {},
   "outputs": [],
   "source": [
    "# let's try to consolidate the context into a summary and add important info we should consider for this figure\n",
    "FIGURE_SUMMARY_PROMPT = \"\"\"\n",
    "Your job is to extract all detailed information about the independent variables used in a particular plot in the panel: {fig_num}{panel_name} - {plot_name}.\n",
    "You will be provided with an image of the full figure and an image that is cropped around the plot of interest.\n",
    "The most important thing is that you include all details about the indepedent variables in the experiments from the text. DO NOT SUMMARIZE SETS OF QUANTITIES. DO NOT REFERENCE FIGURE OR PANEL NAMES IN YOUR RESPONSE.\n",
    "You may need to look across the whole figure for information (e.g. shared legends, etc.)\n",
    "IMPORTANT: \n",
    "    DO NOT CONFOUND THE VALUES OF AN AXIS WITH THE VALUES OF THE DATA POINT MARKERS. IT IS THE LATTER THAT WE CARE ABOUT.\n",
    "    THE PROVIDED IMAGE IS A PADDED CROPPING OF THE PANEL OF INTEREST FROM THE FULL FIGURE, PLEASE IGNORE INFORMATION FROM NEARBY PANELS IN THE PADDING.\n",
    "\n",
    "Previously extracted information from figure:\n",
    "{fig_parsed_text}\n",
    "Structured representation of the plot experiment:\n",
    "{plot_desc}\n",
    "\"\"\"\n",
    "\n",
    "plot_desc = f\"Plot: {plot.name}\"\n",
    "for experiment in plot.experiments:\n",
    "    plot_desc += f\"\\n\\t{experiment}\"\n",
    "\n",
    "context = \"\\n\\n\".join(\n",
    "    [r.get_content(metadata_mode=MetadataMode.LLM) for r in nodes]\n",
    ")\n",
    "\n",
    "prompt = PromptTemplate(\n",
    "    FIGURE_SUMMARY_PROMPT.format(fig_num=fig_num, panel_name=panel.name, plot_name=plot.name, plot_desc=plot_desc, fig_parsed_text=source_figure_summary),\n",
    ").format(llm=plotreader._MM_LLM)\n"
   ]
  },
  {
   "cell_type": "code",
   "execution_count": 82,
   "metadata": {},
   "outputs": [],
   "source": [
    "response = claude_mm_default.message(\n",
    "    prompt,\n",
    "    images = [cropped_img, source_figure]\n",
    ")"
   ]
  },
  {
   "cell_type": "code",
   "execution_count": 83,
   "metadata": {},
   "outputs": [],
   "source": [
    "image_details = response.content[0].text"
   ]
  },
  {
   "cell_type": "code",
   "execution_count": 84,
   "metadata": {},
   "outputs": [
    {
     "name": "stdout",
     "output_type": "stream",
     "text": [
      "The independent variables for the normalized photocurrent vs wavelength plot are:\n",
      "\n",
      "1. Wavelength: The x-axis shows wavelengths ranging from 400 nm to 600 nm.\n",
      "\n",
      "2. ChR variant: Multiple ChR variants are represented by different colored lines:\n",
      "- Gray: CheRiff and C1C2 (two separate variants)\n",
      "- Black: CsChrimR\n",
      "- Cyan: 11_10\n",
      "- Magenta: 12_10\n",
      "- Light blue: 25_9\n",
      "- Yellow: 10_10\n",
      "- Blue: 15_10\n",
      "- Orange: 28_10\n",
      "- Purple: 21_10\n",
      "- Red: 3_10\n",
      "\n",
      "Each line on the plot represents a different ChR variant, showing how its normalized photocurrent changes across the wavelength spectrum from 400 nm to 600 nm.\n"
     ]
    }
   ],
   "source": [
    "print(response.content[0].text)"
   ]
  },
  {
   "cell_type": "code",
   "execution_count": 85,
   "metadata": {},
   "outputs": [],
   "source": [
    "\n",
    "class CategoricalVariable(BaseModel):\n",
    "    name: str\n",
    "    label_type: str = Field(\n",
    "        ...,\n",
    "        description=\"What type of visual signifier is used to label this class in the plot (e.g. color, markertype, etc.)\"\n",
    "    )\n",
    "    values: dict[str, Union[str, list[float]]] = Field(\n",
    "        ...,\n",
    "        description=\"A map from Category > Label that can act as a legend for this variable. If the label is color, give the RGB value as a list of float.\"\n",
    "    )\n",
    "\n",
    "class NumericVariable(BaseModel):\n",
    "    name: str\n",
    "    values: list[float]\n",
    "    unit: str"
   ]
  },
  {
   "cell_type": "code",
   "execution_count": 88,
   "metadata": {},
   "outputs": [
    {
     "name": "stdout",
     "output_type": "stream",
     "text": [
      "name='Wavelength' categorical=False\n",
      "name='ChR variant' categorical=True\n"
     ]
    }
   ],
   "source": [
    "\n",
    "\n",
    "plot_struct_str = f\"Plot: {plot.name}\"\n",
    "for experiment in plot.experiments:\n",
    "    plot_struct_str += f\"\\n\\t{experiment}\"\n",
    "\n",
    "ivs_with_values = []\n",
    "\n",
    "for iv in exp.independent_variables:\n",
    "\n",
    "    print(iv)\n",
    "    if iv.categorical:\n",
    "\n",
    "        var_cls = CategoricalVariable\n",
    "        prompt = f\"\"\"\n",
    "In Figure {fig_num}{panel.name}, plot title: {plot.name}, what values are taken by the independent variable {iv.name}?\n",
    "To help you, I've provided information extracted from both the text and image of the figure.\n",
    "IMPORTANT: \n",
    "    DO NOT CONFOUND THE VALUES OF AN AXIS WITH THE VALUES OF THE DATA POINT MARKERS. IT IS THE LATTER THAT WE CARE ABOUT.\n",
    "    THE PROVIDED IMAGE IS A PADDED CROPPING OF THE PANEL OF INTEREST FROM THE FULL FIGURE, PLEASE IGNORE INFORMATION FROM NEARBY PANELS IN THE PADDING.\n",
    "\n",
    "INFORMATIN FROM IMAGE:\n",
    "{image_details}\n",
    "\n",
    "INFORMATIN FROM TEXT:\n",
    "{details_text}\n",
    "\n",
    "Return your answer as structured data.\n",
    "\"\"\"\n",
    "        \n",
    "    else:\n",
    "        var_cls = NumericVariable\n",
    "        prompt = f\"\"\"\n",
    "In Figure {fig_num}{panel.name}, plot title: {plot.name}, what values are taken by the independent variable {iv.name}?\n",
    "To help you, I've provided information extracted from both the text and image of the figure.\n",
    "IMPORTANT: \n",
    "    DO NOT CONFOUND THE VALUES OF AN AXIS WITH THE VALUES OF THE DATA POINT MARKERS. IT IS THE LATTER THAT WE CARE ABOUT.\n",
    "    THE PROVIDED IMAGE IS A PADDED CROPPING OF THE PANEL OF INTEREST FROM THE FULL FIGURE, PLEASE IGNORE INFORMATION FROM NEARBY PANELS IN THE PADDING.\n",
    "\n",
    "INFORMATIN FROM IMAGE:\n",
    "{image_details}\n",
    "\n",
    "INFORMATIN FROM TEXT:\n",
    "{details_text}\n",
    "\n",
    "Return your answer as structured data.\n",
    "        \"\"\"\n",
    "\n",
    "    # prompt = f\"\"\"In Figure 2, what categories are shown for the independent variable: {exp.independent_variables[1].name}?\n",
    "\n",
    "    # What categories are shown in this plot for the independent variable: {exp.independent_variables[1].name}?\n",
    "\n",
    "    # {our_info}\n",
    "    # \"\"\"\n",
    "\n",
    "    output_parser = PydanticOutputParser(output_cls=var_cls)\n",
    "    prompt = PromptTemplate(prompt, output_parser=output_parser).format(llm=plotreader._MM_LLM)\n",
    "\n",
    "    response = claude_mm_default.message(\n",
    "        prompt,\n",
    "        images = [source_figure, cropped_img]\n",
    "    )\n",
    "    text = response.content[0].text\n",
    "\n",
    "    ivs_with_values.append(output_parser.parse(text))\n",
    "# print(var_struct)\n"
   ]
  },
  {
   "cell_type": "code",
   "execution_count": 89,
   "metadata": {},
   "outputs": [
    {
     "data": {
      "text/plain": [
       "[NumericVariable(name='Wavelength', values=[397.0, 439.0, 481.0, 523.0, 546.0, 567.0, 640.0], unit='nm'),\n",
       " CategoricalVariable(name='ChR variant', label_type='color', values={'CheRiff': 'gray', 'C1C2': 'gray', 'CsChrimR': 'black', '11_10': 'cyan', '12_10': 'magenta', '25_9': 'light blue', '10_10': 'yellow', '15_10': 'blue', '28_10': 'orange', '21_10': 'purple', '3_10': 'red'})]"
      ]
     },
     "execution_count": 89,
     "metadata": {},
     "output_type": "execute_result"
    }
   ],
   "source": [
    "ivs_with_values"
   ]
  },
  {
   "cell_type": "code",
   "execution_count": 90,
   "metadata": {},
   "outputs": [
    {
     "name": "stdout",
     "output_type": "stream",
     "text": [
      "Plot: Normalized photocurrent vs wavelength\n",
      "\tindependent_variables=[Variable(name='Wavelength', categorical=False), Variable(name='ChR variant', categorical=True)] dependent_variables=[Variable(name='Normalized photocurrent', categorical=False)]\n",
      "\t\t\tIndependent Variables Details:\n",
      "\t\t\t\tname='Wavelength' values=[397.0, 439.0, 481.0, 523.0, 546.0, 567.0, 640.0] unit='nm'\n",
      "\t\t\t\tname='ChR variant' label_type='color' values={'CheRiff': 'gray', 'C1C2': 'gray', 'CsChrimR': 'black', '11_10': 'cyan', '12_10': 'magenta', '25_9': 'light blue', '10_10': 'yellow', '15_10': 'blue', '28_10': 'orange', '21_10': 'purple', '3_10': 'red'}\n"
     ]
    }
   ],
   "source": [
    "detailed_plot_desc = plot_desc\n",
    "detailed_plot_desc += \"\\n\\t\\t\\tIndependent Variables Details:\"\n",
    "for iv in ivs_with_values:\n",
    "    detailed_plot_desc += f\"\\n\\t\\t\\t\\t{iv}\"\n",
    "\n",
    "print(detailed_plot_desc)"
   ]
  },
  {
   "cell_type": "code",
   "execution_count": 91,
   "metadata": {},
   "outputs": [],
   "source": [
    "# let's try to consolidate the context into a summary and add important info we should consider for this figure\n",
    "FIGURE_SUMMARY_PROMPT = \"\"\"\n",
    "Are there any clear errors in this structured description of the data in Figure {fig_num}{panel_name}, plot {plot_name} when looking at the images of the plot?\n",
    "For example, are there the correct quantity of entries for each variable? Are the values for each variable reasonable?\n",
    "We do not care about small differences that don't affect the interpretation of the data (like small diffs in quantity or quality).\n",
    "IMPORTANT: \n",
    "    DO NOT CONFOUND THE VALUES OF AN AXIS WITH THE VALUES OF THE DATA POINT MARKERS. IT IS THE LATTER THAT WE CARE ABOUT.\n",
    "    THE PROVIDED IMAGE IS A PADDED CROPPING OF THE PANEL OF INTEREST FROM THE FULL FIGURE, PLEASE IGNORE INFORMATION FROM NEARBY PANELS IN THE PADDING.\n",
    "\n",
    "{detailed_plot_desc}\n",
    "\"\"\"\n",
    "\n",
    "prompt = FIGURE_SUMMARY_PROMPT.format(\n",
    "    fig_num=fig_num, panel_name=panel.name, plot_name=plot.name, detailed_plot_desc=detailed_plot_desc\n",
    "    ).replace(\"{\",\"{{\").replace(\"}\",\"}}\")\n",
    "prompt = PromptTemplate(\n",
    "    prompt,\n",
    ").format(llm=plotreader._MM_LLM)\n"
   ]
  },
  {
   "cell_type": "code",
   "execution_count": 92,
   "metadata": {},
   "outputs": [
    {
     "name": "stdout",
     "output_type": "stream",
     "text": [
      "After examining the image of the plot in Figure 2d, I can confirm that the structured description provided is generally accurate, but there are a few minor discrepancies:\n",
      "\n",
      "1. Wavelength values: The description is correct. The plot shows data points at approximately the wavelengths listed (397, 439, 481, 523, 546, 567, and 640 nm).\n",
      "\n",
      "2. ChR variant colors: The description matches the colors shown in the plot for the variants that are visible.\n",
      "\n",
      "3. Number of variants: The description lists 11 ChR variants, but the plot only shows 6 distinct lines. This could be because not all variants are visible in this particular panel, or some may overlap.\n",
      "\n",
      "4. Normalized photocurrent range: The y-axis goes from 0 to 1, which is correct for normalized data.\n",
      "\n",
      "5. Data point representation: The plot uses both lines and markers to represent data points, which is not explicitly mentioned in the description but doesn't affect the interpretation of the data.\n",
      "\n",
      "Overall, the structured description accurately represents the main features of the plot. The discrepancy in the number of variants listed versus shown doesn't significantly impact the interpretation of the visible data. The wavelength values and normalized photocurrent range are correct, and the color coding for the visible variants matches the description.\n"
     ]
    }
   ],
   "source": [
    "response = claude_mm_default.message(\n",
    "    prompt,\n",
    "    images = [cropped_img]\n",
    ")\n",
    "print(response.content[0].text)\n",
    "data_revision_response = response.content[0].text"
   ]
  },
  {
   "cell_type": "code",
   "execution_count": 98,
   "metadata": {},
   "outputs": [],
   "source": [
    "ivs_with_values_rev = []\n",
    "for iv in ivs_with_values:\n",
    "    IV_DETAILS_REVISION_PROMPT = \"\"\"\n",
    "We have previously extracted the information about the independent variable {var_name} and their values from Figure {fig_num}{panel_name}, plot {plot_name} using the structure provided below.\n",
    "We have also found issues with that initial response. \n",
    "Given the inital response, the identified issues, and images of the source figure and plot, please revise the initial response.\n",
    "IMPORTANT: \n",
    "    DO NOT CONFOUND THE VALUES OF AN AXIS WITH THE VALUES OF THE DATA POINT MARKERS. IT IS THE LATTER THAT WE CARE ABOUT.\n",
    "    THE PROVIDED IMAGE IS A PADDED CROPPING OF THE PANEL OF INTEREST FROM THE FULL FIGURE, PLEASE IGNORE INFORMATION FROM NEARBY PANELS IN THE PADDING.\n",
    "\n",
    "PREVIOUS RESPONSE:\n",
    "{prev_response}\n",
    "\n",
    "REVISION ADVICE:\n",
    "{revision_advice}\n",
    "\"\"\".format(\n",
    "        var_name = iv.name,\n",
    "        fig_num = fig_num,\n",
    "        panel_name = panel.name, \n",
    "        plot_name = plot.name,\n",
    "        prev_response = iv,\n",
    "        revision_advice = data_revision_response,\n",
    "    ).replace(\"{\",\"{{\").replace(\"}\",\"}}\")\n",
    "    if isinstance(iv, CategoricalVariable):\n",
    "        output_parser = PydanticOutputParser(output_cls=CategoricalVariable)\n",
    "    else:\n",
    "        output_parser = PydanticOutputParser(output_cls=NumericVariable)\n",
    "\n",
    "    prompt = PromptTemplate(IV_DETAILS_REVISION_PROMPT, output_parser=output_parser).format(llm=plotreader._MM_LLM)\n",
    "\n",
    "    response = claude_mm_default.message(\n",
    "        prompt,\n",
    "        images = [source_figure, cropped_img]\n",
    "    )\n",
    "    text = response.content[0].text\n",
    "\n",
    "    ivs_with_values_rev.append(output_parser.parse(text))\n",
    "\n"
   ]
  },
  {
   "cell_type": "code",
   "execution_count": 99,
   "metadata": {},
   "outputs": [
    {
     "data": {
      "text/plain": [
       "[NumericVariable(name='Wavelength', values=[397.0, 439.0, 481.0, 523.0, 546.0, 567.0, 640.0], unit='nm'),\n",
       " CategoricalVariable(name='ChR variant', label_type='color', values={'CheRiff': 'gray', 'C1C2': 'gray', 'CsChrimR': 'black', '11_10': 'cyan', '25_9': 'teal', '28_10': 'orange'})]"
      ]
     },
     "execution_count": 99,
     "metadata": {},
     "output_type": "execute_result"
    }
   ],
   "source": [
    "ivs_with_values_rev"
   ]
  },
  {
   "cell_type": "code",
   "execution_count": null,
   "metadata": {},
   "outputs": [],
   "source": [
    "output_parser = PydanticOutputParser(output_cls=DataFrameRowsOnly)\n",
    "\n",
    "\n",
    "columns = {iv.name: pd.Series() for iv in exp.independent_variables}\n",
    "dep_var = exp.dependent_variables[0]\n",
    "columns.update({dep_var.name: pd.Series()})\n",
    "df = pd.DataFrame(columns)\n",
    "\n",
    "prompt_base = \"\"\"\n",
    "In Figure {fig_num}{panel_name}, plot {plot_name}, what are the values for the dependent variable {dep_var_name}?\n",
    "Get the value for each condition. To help, here is our current belief on the independent variables and their values for this plot:\n",
    "{ind_vars}\n",
    "\n",
    "\n",
    "Return your data using the following column schema: {schema}.\n",
    "\"\"\".format(\n",
    "    fig_num = fig_num,\n",
    "    panel_name = panel.name, \n",
    "    # dep_var_stat = dep_var.statistics[0],\n",
    "    plot_name = plot.name,\n",
    "    dep_var_name = dep_var.name,\n",
    "    ind_vars = \"\\n\".join([str(iv) for iv in ivs_with_values]),\n",
    "    schema = \", \".join(df.columns),\n",
    ").replace(\"{\",\"<\").replace(\"}\",\">\")\n",
    "\n",
    "prompt = PromptTemplate(prompt_base, output_parser=output_parser).format(llm=plotreader._MM_LLM)\n",
    "\n",
    "data_response = query_tool(prompt)\n",
    "panel_df = output_parser.parse(data_response.content).to_df(existing_df=df)"
   ]
  }
 ],
 "metadata": {
  "kernelspec": {
   "display_name": ".venv",
   "language": "python",
   "name": "python3"
  },
  "language_info": {
   "codemirror_mode": {
    "name": "ipython",
    "version": 3
   },
   "file_extension": ".py",
   "mimetype": "text/x-python",
   "name": "python",
   "nbconvert_exporter": "python",
   "pygments_lexer": "ipython3",
   "version": "3.12.5"
  }
 },
 "nbformat": 4,
 "nbformat_minor": 2
}
