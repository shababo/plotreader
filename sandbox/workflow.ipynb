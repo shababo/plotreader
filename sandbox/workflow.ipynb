{
 "cells": [
  {
   "cell_type": "code",
   "execution_count": 1,
   "metadata": {},
   "outputs": [],
   "source": [
    "%load_ext autoreload\n",
    "%autoreload 2"
   ]
  },
  {
   "cell_type": "code",
   "execution_count": 2,
   "metadata": {},
   "outputs": [],
   "source": [
    "from llama_index.core.workflow import (\n",
    "    Event,\n",
    "    StartEvent,\n",
    "    StopEvent,\n",
    "    Workflow,\n",
    "    step,\n",
    ")"
   ]
  },
  {
   "cell_type": "code",
   "execution_count": 3,
   "metadata": {},
   "outputs": [],
   "source": [
    "class PaperUploadEvent(StartEvent):\n",
    "    paper_path: str\n"
   ]
  },
  {
   "cell_type": "code",
   "execution_count": 8,
   "metadata": {},
   "outputs": [],
   "source": [
    "class PlotReaderWorkflow(Workflow):\n",
    "    # @step\n",
    "    # def start(self) -> Event:\n",
    "    #     return StartEvent()\n",
    "\n",
    "    @step\n",
    "    async def parse_paper(self, paper_upload_ev: StartEvent) -> StopEvent:\n",
    "        print(f\"Parsing paper from path: {paper_upload_ev.paper_path}\")\n",
    "        return StopEvent(result=\"Done.\")\n",
    "\n",
    "    # @step\n",
    "    # def stop(self) -> Event:\n",
    "    #     return StopEvent()\n",
    "    \n",
    "    "
   ]
  },
  {
   "cell_type": "code",
   "execution_count": 9,
   "metadata": {},
   "outputs": [
    {
     "name": "stdout",
     "output_type": "stream",
     "text": [
      "Parsing paper from path: Hello, World!\n",
      "Done.\n"
     ]
    }
   ],
   "source": [
    "wkflow = PlotReaderWorkflow(timeout=10, verbose=False)\n",
    "\n",
    "result = await wkflow.run(paper_path = \"Hello, World!\")\n",
    "\n",
    "print(result)"
   ]
  },
  {
   "cell_type": "code",
   "execution_count": null,
   "metadata": {},
   "outputs": [],
   "source": []
  }
 ],
 "metadata": {
  "kernelspec": {
   "display_name": ".venv",
   "language": "python",
   "name": "python3"
  },
  "language_info": {
   "codemirror_mode": {
    "name": "ipython",
    "version": 3
   },
   "file_extension": ".py",
   "mimetype": "text/x-python",
   "name": "python",
   "nbconvert_exporter": "python",
   "pygments_lexer": "ipython3",
   "version": "3.12.5"
  }
 },
 "nbformat": 4,
 "nbformat_minor": 2
}
